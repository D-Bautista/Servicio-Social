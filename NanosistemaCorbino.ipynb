{
  "cells": [
    {
      "cell_type": "raw",
      "metadata": {},
      "source": [
        "---\n",
        "title: Bicapa de campo magnético en nanosistema en forma de anillo concontacto interior\n",
        "author: Diego Bautista Avilés\n",
        "toc: true\n",
        "number-sections: true\n",
        "highlight-style: pygments\n",
        "format:\n",
        "  html:\n",
        "    code-fold: true\n",
        "---"
      ],
      "id": "75e6ba4a"
    },
    {
      "cell_type": "markdown",
      "metadata": {},
      "source": [
        "\\textbf{Primer modelo: dispositivo en forma de anillo con bicapa de grafeno}\n",
        "\n",
        "Se construyó un nanosistema en forma de anillo. El sistema está hecho por una bicapa de grafeno en torno al círculo central y por una monocapa para en los bordes exteriores. Hay dos contactos: uno hecho con una monocapa de grafeno y conectada al exterior del anillo, otro hecho con una bicapa y conectado al interior. Sobre el sistema se aplica un campo magnético perpendicular. Para modelar este sistema se empleó la librería Kwant. \n"
      ],
      "id": "c006c766"
    },
    {
      "cell_type": "code",
      "metadata": {},
      "source": [
        "from pylab import *\n",
        "import kwant\n",
        "import numpy as np\n",
        "from matplotlib import pyplot"
      ],
      "id": "8d48370b",
      "execution_count": null,
      "outputs": []
    },
    {
      "cell_type": "markdown",
      "metadata": {},
      "source": [
        "Como primer pasó, se determinó la geometría de la bicapa de grafeno. Para ello, se emplearon los siguientes vectores base $$\\vec{a}_{1} = \\hat{x}; \\quad \\vec{a}_{2} = \\frac{1}{2}\\hat{x} + \\frac{\\sqrt{3}}{2}\\hat{y}; \\quad \\vec{a}_{3} = \\hat{z}.$$ Para esto, se asumió que el parámetro del cristal era igual a $1$. En cada celta unitaria, los orbitales se encontraban en la siguientes posiciones $$\\hat{s}_{1} = \\frac{1}{2}\\hat{x}+\\frac{\\sqrt{3}}{6}\\hat{y};\\quad \\vec{s}_{2} = \\hat{x}+\\frac{\\sqrt{3}}{3}\\hat{y};\\quad \\vec{s}_{3}=\\frac{1}{2}\\hat{z};\\quad \\vec{s}_{4}=\\hat{x}+\\frac{\\sqrt{3}}{3}\\hat{y}+\\frac{1}{2}\\hat{z}.$$ Usando estos vectores, se definió una red en kwant. Para definir la red de grafeno como parte de la monocapa, se usaron los mismos vectores de red y los orbitales $\\hat{s}_{1}$ y $\\hat{s}_{2}$.\n"
      ],
      "id": "af036c6e"
    },
    {
      "cell_type": "code",
      "metadata": {},
      "source": [
        "a1 = np.array([1., 0.,0.])\n",
        "a2 = np.array([0.5, sqrt(3)/2,  0])\n",
        "a3 = np.array([0.,0.,1.])\n",
        "\n",
        "bicapa = kwant.lattice.general([(a1),(a2),(a3)],\n",
        "                               [(1/2, sqrt(3)/6,  0), \n",
        "                                (  1, sqrt(3)/3,  0),\n",
        "                                (  0,         0,0.5),\n",
        "                                (  1, sqrt(3)/3,0.5)],norbs = 1)\n",
        "\n",
        "a,b,c,d = bicapa.sublattices\n",
        "\n",
        "grafeno = kwant.lattice.general([(a1),(a2),(a3)],\n",
        "                               [(1/2, sqrt(3)/6,  0), \n",
        "                                (  1, sqrt(3)/3,  0)],norbs = 1)\n",
        "\n",
        "a1,b1 = grafeno.sublattices\n",
        "\n",
        "lat = kwant.lattice.cubic(1) #Este mallado se definió de forma auxiliar para conectar el contacto interior. "
      ],
      "id": "4b5fd41b",
      "execution_count": null,
      "outputs": []
    },
    {
      "cell_type": "markdown",
      "metadata": {},
      "source": [
        "Luego, se definió el valor de los hoppings entre los distintos orbitales. Se usaron los valores $\\gamma_{0} = 3.16 \\text{ eV}, \\gamma_{1} = 0.381 \\text{ eV}, \\gamma_{3} = 0.38 \\text{ eV}, \\gamma_{4} = 0.14  \\text{ eV} \\text{ y } \\delta_{1} = 0.022 \\text{ eV}.$ Estos valores se obtuvieron del artículo \\textit{The electronic properties of bilayer graphene} de Edward McCann and Mikito Koshino. La disposición de los hoppings y la red se muestran debajo, tal y como se presenta en el artículo. Para los hoppings en las monocapas, únicamente se consideraron los enlaces entre elementos de una misma capa. Estos están dados por $\\gamma_{0}$![Disposición hoppings](red_hoppings.png) \n",
        "\n",
        ":::{.callout-tip}\n",
        "## URL artículo\n",
        "\n",
        "Para el artículo revisar <https://arxiv.org/abs/1205.6953>\n",
        ":::"
      ],
      "id": "e55251e0"
    },
    {
      "cell_type": "code",
      "metadata": {},
      "source": [
        "gamma0 = 3.16\n",
        "gamma1 = 0.381 \n",
        "gamma3 = 0.38 \n",
        "gamma4 = 0.14 \n",
        "delta1 = 0.022"
      ],
      "id": "9fbdce7e",
      "execution_count": null,
      "outputs": []
    },
    {
      "cell_type": "markdown",
      "metadata": {},
      "source": [
        "Se colocaron los hoppings entre los respectivos orbitales. De la misma forma, se colocó el valor de los onsites: 0 para los orbitales 1 y 3; y $\\Delta_{1} = 0.022 \\text{eV}$ para los orbitales 2 y 4. Luego, se construyó un nanosistema en forma de anillo con un radio interior de $r = 10$ y un radio exterior de $R = 40$. \n"
      ],
      "id": "0c29f11a"
    },
    {
      "cell_type": "code",
      "metadata": {},
      "source": [
        "r,R,Z = 80,320,1 #Considerar que la unidad de esto está en múltiplos de sqrt(3)(1.42A).\n",
        "\n",
        "def ring(site):\n",
        "  (x,y,z) = site\n",
        "  rsq = x ** 2 + y ** 2\n",
        "  return(r**2 <= rsq < R**2) and (0 <= z < Z)\n",
        "\n",
        "  \n",
        "def onsite(site):\n",
        "  if site.family == a:\n",
        "    return 0\n",
        "  elif site.family == b:\n",
        "    return delta1\n",
        "  elif site.family == c:\n",
        "    return 0\n",
        "  elif site.family == d:\n",
        "    return delta1\n",
        "\n",
        "syst = kwant.Builder()\n",
        "\n",
        "syst[bicapa.shape(ring,(r,0,0))] = onsite \n",
        "\n",
        "hoppings1 = (((0, 0, 0), a, b),\n",
        "              ((1, 0, 0), a, b),\n",
        "              ((0, 1, 0), a, b),\n",
        "              ((1, 0, 0), c, d),\n",
        "              ((0, 1, 0), c, d),\n",
        "              ((1, 1, 0), c, d))\n",
        "\n",
        "syst[[kwant.builder.HoppingKind(*hopping) for hopping in hoppings1]] = -1*gamma0\n",
        "\n",
        "hoppings_2 = ((( 0, 0, 0), a, c),\n",
        "              ((-1, 0, 0), a, c),\n",
        "              (( 0,-1, 0), a, c))\n",
        "\n",
        "syst[[kwant.builder.HoppingKind(*hopping) for hopping in hoppings_2]] = -1*gamma3\n",
        "\n",
        "hoppings_3 = (((0,0,0),b,d),)\n",
        "syst[[kwant.builder.HoppingKind(*hopping) for hopping in hoppings_3]] = gamma1\n",
        "\n",
        "hoppings_4 = (((0, 0, 0), a, d),\n",
        "              ((1, 0, 0), a, d),\n",
        "              ((0, 1, 0), a, d))\n",
        "syst[[kwant.builder.HoppingKind(*hopping) for hopping in hoppings_4]] = gamma4              "
      ],
      "id": "c1464245",
      "execution_count": null,
      "outputs": []
    },
    {
      "cell_type": "markdown",
      "metadata": {},
      "source": [
        "El sistema construido se muestra en la imagen debajo.\n"
      ],
      "id": "bb0f229f"
    },
    {
      "cell_type": "code",
      "metadata": {},
      "source": [
        "kwant.plot(syst,fig_size=(6,6));"
      ],
      "id": "44bdc95f",
      "execution_count": null,
      "outputs": []
    },
    {
      "cell_type": "markdown",
      "metadata": {},
      "source": [
        "Posteriormente, se retiró la monocapa para una parte del anillo. Esto se hizo usando el comando `del`de Quarto. Para ello, primero se definió la sección donde se retiraría la capa superior. Esta constaba de la parte del anillo que iba de 3/4 del radio de este al borde del sistema. \n"
      ],
      "id": "a9c4f850"
    },
    {
      "cell_type": "code",
      "metadata": {},
      "source": [
        "def in_hole(site):\n",
        "    x, y, z = site.pos \n",
        "    radsqrt = x**2 + y**2\n",
        "    return 0.5 <= z < Z and (0.75*R)**2 <= radsqrt < R**2"
      ],
      "id": "a5f576db",
      "execution_count": null,
      "outputs": []
    },
    {
      "cell_type": "markdown",
      "metadata": {},
      "source": [
        "Se retiraron los sitios en la sección definida. \n"
      ],
      "id": "fa08d681"
    },
    {
      "cell_type": "code",
      "metadata": {},
      "source": [
        "for site in filter(in_hole, list(syst.sites())):\n",
        "    del syst[site]\n",
        "\n",
        "kwant.plot(syst,fig_size=(6,6));"
      ],
      "id": "0ae126ff",
      "execution_count": null,
      "outputs": []
    },
    {
      "cell_type": "markdown",
      "metadata": {},
      "source": [
        "Una vez definidos los enlaces entre el sistema y su forma, se añadió un campo magnético $\\vec{\\text{B}} = \\text{B}\\hat{z}$ al sistema. Para considerar el efecto del campo se aplicó la fase de Peierls a cada uno de los enlaces. Con dicho fin, se eligió la siguiente norma para el potencial magnético $$\\vec{\\text{A}} = -\\text{B}y\\hat{x}.$$ Se eligió esta norma, pues esta seguía la simetría traslacional que fue posteriormente elegida en los contactos. Con esta elección, la fase de Peierls añadida es $$\n",
        "\\phi_{ij} = \\frac{\\text{q}}{\\hbar}\\int \\vec{\\text{A}} \\cdot \\text{d}\\vec{l}.$$\n",
        "\n",
        "Aquí, se considera que la curva sobre la que se integra es la recta que une dos puntos en el mayado. Es decir, $$\\vec{l} = [(x_{1}-x_{0})\\hat{x} + (y_{1}-y_{0})\\hat{y} + (z_{1}-z_{0})\\hat{z}]t + \\vec{v}_{0}.$$ \n",
        "Con esto en mente, se definió una función que añadía la fase calculada a cada sitio en el sistema.\n",
        "\n",
        "$$\\begin{aligned} \\phi_{ij} & = - \\frac{\\text{q}\\text{B}}{\\hbar}\\int y \\hat{x} \\cdot \\text{d}\\vec{l} \\\\\n",
        "& = - - \\frac{\\text{q}\\text{B}}{\\hbar}\\int y \\hat{x} \\cdot \\frac{\\text{d}\\vec{l}}{\\text{d}t}\\text{d}t \\\\\n",
        "& = - \\frac{\\text{q}\\text{B}}{\\hbar} (x_{1}-x_{0})\\int_{0}^{1}\\left[(y_{1}-y_{0})t + y_{0} \\right]\\text{d}t \\\\\n",
        "& =-\\frac{\\text{q}\\text{B}}{2\\hbar}(x_{j}-x_{i})(y_{j}+y_{i}).\\end{aligned}$$ \n",
        "Se agregó esta fase a cada uno de los hoppings del nanosistema. De esta forma, los nuevos hoppings del sistema estaban dados por $$\\gamma_{\\text{nuevo}} = \\gamma \\exp(- \\text{i} \\frac{\\text{q}\\text{B}}{2\\hbar}(x_{j}-x_{i})(y_{j}+y_{i}))$$\n"
      ],
      "id": "6c8282c5"
    },
    {
      "cell_type": "code",
      "metadata": {},
      "source": [
        "B    = 0              # [T]\n",
        "ħ    = 1.0545718e-34   # [SI]\n",
        "h    = 2*pi*ħ          # [SI]\n",
        "e    = 1.602176634e-19 # [SI]\n",
        "ΦB   = h/2/e           # [SI]\n",
        "\n",
        "z_B  = 3*(0.142)*(0.142)*pi*B/ΦB/1e9/1e9\n",
        "\n",
        "def PeierlsPhase(sitei, sitej):\n",
        "  xi, yi,zi   =  sitei.pos\n",
        "  xj, yj,zi   =  sitej.pos\n",
        "  phase_ji = -z_B*(xj-xi)*(yj+yi)/2\n",
        "  return exp(1j * phase_ji)"
      ],
      "id": "52dabb18",
      "execution_count": null,
      "outputs": []
    },
    {
      "cell_type": "markdown",
      "metadata": {},
      "source": [
        "Se aplicó esta fase a todos los sitios del anillo. \n"
      ],
      "id": "83597e65"
    },
    {
      "cell_type": "code",
      "metadata": {},
      "source": [
        "for (sit,sit1) in syst.hoppings():\n",
        "  syst[sit,sit1] = syst[sit,sit1]*PeierlsPhase(sit1, sit)"
      ],
      "id": "22839e51",
      "execution_count": null,
      "outputs": []
    },
    {
      "cell_type": "markdown",
      "metadata": {},
      "source": [
        "Se añadieron contactos que se extendían a lo largo del eje x. El primer contacto tenía una reccoría el eje y de $W = 10$ a $-W$. Este se hizo con una monocapa y se conectó al exterior del anillo. El segundo contacto se hizo con una monocapa de grafeno. Este se hizo con un rango en el eje y de $-r/3$ a $r/3$. También se consideró el efecto del campo magnético sobre los contactos. La construcción de los contactos se realiza en la celda debajo. \n"
      ],
      "id": "76c01f03"
    },
    {
      "cell_type": "code",
      "metadata": {},
      "source": [
        "W = r\n",
        "def contacto(pos):\n",
        "  x,y,z = pos\n",
        "  return (-W <= y < W) and (0 <= z < Z)\n",
        "\n",
        "def contacto2(pos):\n",
        "  x,y,z = pos\n",
        "  return (-r/3 <= y < r/3) and (0 <= z < Z)\n",
        "\n",
        "hoppingsgraf = (((0, 0, 0), a1, b1),\n",
        "              ((1, 0, 0), a1, b1),\n",
        "              ((0, 1, 0), a1, b1))\n",
        "\n",
        "def onsitegraf(site):\n",
        "  if site.family == a1:\n",
        "    return 0\n",
        "  else:\n",
        "    return delta1\n",
        "# Contacto izquierdo\n",
        "\n",
        "sym1 = kwant.TranslationalSymmetry(grafeno.vec((-1, 0,0)))\n",
        "lead_izq = kwant.Builder(sym1)\n",
        "lead_izq[grafeno.shape(contacto, (0,0,0))] = onsitegraf\n",
        "\n",
        "lead_izq[[kwant.builder.HoppingKind(*hopping) for hopping in hoppingsgraf]] = -1*gamma0\n",
        "\n",
        "for (sit,sit1) in lead_izq.hoppings():\n",
        "  lead_izq[sit,sit1] = lead_izq[sit,sit1]*PeierlsPhase(sit1, sit)\n",
        "\n",
        "# Contacto derecho\n",
        "\n",
        "sym2 = kwant.TranslationalSymmetry(bicapa.vec((-1, 0,0)))\n",
        "\n",
        "lead_cen = kwant.Builder(sym2)\n",
        "lead_cen[bicapa.shape(contacto2, (0, 0,0))] = onsite\n",
        "\n",
        "lead_cen[[kwant.builder.HoppingKind(*hopping) for hopping in hoppings1]] = -1*gamma0\n",
        "\n",
        "lead_cen[[kwant.builder.HoppingKind(*hopping) for hopping in hoppings_2]] = -1*gamma3\n",
        "\n",
        "lead_cen[[kwant.builder.HoppingKind(*hopping) for hopping in hoppings_3]] = gamma1\n",
        "\n",
        "lead_cen[[kwant.builder.HoppingKind(*hopping) for hopping in hoppings_4]] = gamma4\n",
        "\n",
        "for (sit,sit1) in lead_cen.hoppings():\n",
        "  lead_cen[sit,sit1] = lead_cen[sit,sit1]*PeierlsPhase(sit1, sit)"
      ],
      "id": "79b4736f",
      "execution_count": null,
      "outputs": []
    },
    {
      "cell_type": "markdown",
      "metadata": {},
      "source": [
        "Se terminó de construir el sistema.\n"
      ],
      "id": "7905946f"
    },
    {
      "cell_type": "code",
      "metadata": {},
      "source": [
        "syst.attach_lead(lead_izq)\n",
        "syst.attach_lead(lead_cen,lat(0,0,0))\n",
        "\n",
        "syst = syst.finalized()"
      ],
      "id": "5180af1d",
      "execution_count": null,
      "outputs": []
    },
    {
      "cell_type": "code",
      "metadata": {},
      "source": [
        "kwant.plot(syst,fig_size=(18,18));"
      ],
      "id": "2733fd1a",
      "execution_count": null,
      "outputs": []
    },
    {
      "cell_type": "markdown",
      "metadata": {},
      "source": [
        "Finalmente, se calculó la estructura de bandas de uno de los contactos para confirmar que todo lo planteado es correcto."
      ],
      "id": "c36a2b52"
    },
    {
      "cell_type": "code",
      "metadata": {},
      "source": [
        "def EstructuraBandas(lead,momentos):\n",
        "  bandas = kwant.physics.Bands(lead)\n",
        "  eigen  = [bandas(k) for k in momentos]\n",
        "  return momentos,eigen"
      ],
      "id": "63f333d4",
      "execution_count": null,
      "outputs": []
    },
    {
      "cell_type": "code",
      "metadata": {},
      "source": [
        "nk = 201\n",
        "momentos = linspace(0,2*pi,nk)\n",
        "momentos,eigen = EstructuraBandas(syst.leads[0],momentos)\n",
        "\n",
        "plot(momentos,eigen,'-k');"
      ],
      "id": "284f032d",
      "execution_count": null,
      "outputs": []
    },
    {
      "cell_type": "code",
      "metadata": {},
      "source": [
        "def Conductancia(syst,energias):\n",
        "  datos = []\n",
        "  for energia in energias:\n",
        "    matrizS = kwant.smatrix(syst,energia)\n",
        "    datos.append(matrizS.transmission(0,1))\n",
        "  return energias,datos\n",
        "\n",
        "energias = linspace(-1.0,1.0,1000)\n",
        "energias,datos = Conductancia(syst,energias)\n",
        "\n",
        "DATOS = column_stack((energias,datos))\n",
        "savetxt('DatosB100ContInterno.txt',DATOS)"
      ],
      "id": "6cd911b6",
      "execution_count": null,
      "outputs": []
    },
    {
      "cell_type": "code",
      "metadata": {},
      "source": [
        "#plot(energias,datos,'o-')"
      ],
      "id": "55942028",
      "execution_count": null,
      "outputs": []
    },
    {
      "cell_type": "code",
      "metadata": {},
      "source": [
        "Sites = list(syst.sites)\n",
        "\n",
        "posiciones=[]\n",
        "for site in Sites:\n",
        "    # if site.pos[2]==2:\n",
        "        posiciones.append(site.pos)\n",
        "    \n",
        "posiciones=np.array(posiciones)\n",
        "\n",
        "plt.scatter(posiciones.T[0], posiciones.T[1])"
      ],
      "id": "e249e98c",
      "execution_count": null,
      "outputs": []
    },
    {
      "cell_type": "code",
      "metadata": {},
      "source": [
        "import plotly.graph_objects as go\n",
        "\n",
        "fig = go.Figure(data=[go.Scatter3d(x=posiciones.T[0],\n",
        "                                   y=posiciones.T[1],\n",
        "                                   z=posiciones.T[2],\n",
        "                                   mode='markers',marker=dict(size=2))])\n",
        "camera = dict(\n",
        "    eye=dict(x=0, y=2, z=0.1)\n",
        ")\n",
        "fig.update_layout( autosize=False,\n",
        "                  width=600, height=400,\n",
        "                  margin=dict(l=0, r=0, b=0, t=0),\n",
        "                  scene_camera=camera,\n",
        "                  font=dict(\n",
        "                      size=16,\n",
        "                      color=\"Black\"),\n",
        "                  scene = dict(xaxis = dict(\n",
        "                                   title = dict(text=\"x\"),\n",
        "                                   tickmode = 'array',\n",
        "                                   tickvals = [-30,0,30],\n",
        "                                   ticktext = ['','0',''],\n",
        "                                   showbackground=True),\n",
        "                               yaxis = dict(\n",
        "                                   title = dict(text=\"y\"),\n",
        "                                   tickmode = 'array',\n",
        "                                   tickvals = [-30,0,30],\n",
        "                                   ticktext = ['','0',''],\n",
        "                                   showbackground=True),\n",
        "                               zaxis = dict(\n",
        "                                   title = dict(text=\"z\"),\n",
        "                                   tickmode = 'array',\n",
        "                                   tickvals = [-10,0,10],\n",
        "                                   ticktext = ['','0',''],\n",
        "                                   range=[-10,10],\n",
        "                                   showbackground=True)))\n",
        "fig.show()"
      ],
      "id": "8c17bd4a",
      "execution_count": null,
      "outputs": []
    },
    {
      "cell_type": "code",
      "metadata": {},
      "source": [
        "wave = kwant.wave_function( syst,energy = 0.3 )\n",
        "ndeg,nsites = shape(wave(0))\n",
        "rho = kwant.operator.Density(syst)\n",
        "ρ = zeros(nsites)\n",
        "\n",
        "for n in range(ndeg):\n",
        "  psi = wave(0)[n]\n",
        "  ρ   += rho(psi)\n",
        "\n",
        "ρ /= max(ρ)\n",
        "\n",
        "\n",
        "\n",
        "\n",
        "fig, ax = plt.subplots(figsize=(6,6))\n",
        "filtro = posiciones.T[2]>-0.1\n",
        "ax.scatter(posiciones.T[0],posiciones.T[1],s=0.001,c='#00AB8E',alpha=0.05,zorder=2)\n",
        "disco = ax.scatter(posiciones.T[0][filtro],\n",
        "                   posiciones.T[1][filtro],\n",
        "                   s = 0.02,\n",
        "                   c = log10(ρ[filtro]),\n",
        "                   vmin=-6,vmax=0,\n",
        "                   alpha = 1.0,\n",
        "                   cmap = 'BuGn',zorder=1)\n",
        "barracolor = fig.colorbar(disco)\n",
        "barracolor.set_ticks([-6,-4,-2,0])\n",
        "barracolor.set_label('log |Ψ|²',rotation=0)\n",
        "ax.set_xlim(-450,450)\n",
        "ax.set_ylim(-450,450)\n",
        "ax.set_axis_off()"
      ],
      "id": "aefe853b",
      "execution_count": null,
      "outputs": []
    }
  ],
  "metadata": {
    "kernelspec": {
      "name": "python3",
      "language": "python",
      "display_name": "Python 3"
    }
  },
  "nbformat": 4,
  "nbformat_minor": 5
}